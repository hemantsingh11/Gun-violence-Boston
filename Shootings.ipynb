{
 "cells": [
  {
   "cell_type": "code",
   "execution_count": null,
   "id": "16ef72b7",
   "metadata": {},
   "outputs": [],
   "source": [
    "import folium\n",
    "import pandas as pd"
   ]
  },
  {
   "cell_type": "code",
   "execution_count": null,
   "id": "41c53e7f",
   "metadata": {},
   "outputs": [],
   "source": [
    "shootings_df = pd.read_csv(\"Shootings.csv\")"
   ]
  },
  {
   "cell_type": "code",
   "execution_count": null,
   "id": "8f8b09b1",
   "metadata": {},
   "outputs": [],
   "source": [
    "shots_fired_df = pd.read_csv(\"Shots_fired.csv\")"
   ]
  },
  {
   "cell_type": "code",
   "execution_count": null,
   "id": "5136d547",
   "metadata": {},
   "outputs": [],
   "source": [
    "shootings_df.head(30)"
   ]
  },
  {
   "cell_type": "code",
   "execution_count": null,
   "id": "11f4118c",
   "metadata": {},
   "outputs": [],
   "source": [
    "shots_fired_df.head()"
   ]
  },
  {
   "cell_type": "code",
   "execution_count": null,
   "id": "5e1cdc61",
   "metadata": {},
   "outputs": [],
   "source": [
    "Nonfatal_shootings_df = shootings_df[shootings_df['shooting_type_v2'] == 'Non-Fatal']\n",
    "fatal_shootings_df = shootings_df[shootings_df['shooting_type_v2'] == 'Fatal']"
   ]
  },
  {
   "cell_type": "code",
   "execution_count": null,
   "id": "5b9b7d4e",
   "metadata": {},
   "outputs": [],
   "source": [
    "Nonfatal_shootings_df.head()"
   ]
  },
  {
   "cell_type": "code",
   "execution_count": null,
   "id": "faffa131",
   "metadata": {},
   "outputs": [],
   "source": [
    "fatal_shootings_df.head()"
   ]
  },
  {
   "cell_type": "code",
   "execution_count": null,
   "id": "784b7ebb",
   "metadata": {},
   "outputs": [],
   "source": [
    "Nonfatalcounts = Nonfatal_shootings_df.groupby(['victim_race', 'victim_gender']).size()\n",
    "print(Nonfatalcounts)\n",
    "\n"
   ]
  },
  {
   "cell_type": "code",
   "execution_count": null,
   "id": "589aed09",
   "metadata": {},
   "outputs": [],
   "source": [
    "fatalcounts = fatal_shootings_df.groupby(['victim_race', 'victim_gender']).size()\n",
    "print(fatalcounts)\n",
    "\n"
   ]
  },
  {
   "cell_type": "code",
   "execution_count": null,
   "id": "8528f913",
   "metadata": {},
   "outputs": [],
   "source": [
    "import seaborn as sns\n",
    "import matplotlib.pyplot as plt\n",
    "\n",
    "# group the data by district, victim race, victim gender, and shooting type, and count the number of occurrences\n",
    "grouped = shootings_df.groupby(['district', 'victim_race', 'victim_gender', 'shooting_type_v2']).size().reset_index(name='count')\n",
    "\n",
    "# define custom column titles\n",
    "custom_col_titles = ['Male', 'Female']\n",
    "\n",
    "# create the subplots with custom column titles\n",
    "g = sns.catplot(x='district', y='count', hue='victim_race', col='victim_gender', row='shooting_type_v2', data=grouped, kind='bar', height=3, aspect=1.2, col_order=custom_col_titles)\n",
    "\n",
    "# set the titles\n",
    "g.set_titles(\"{row_name} - {col_name}\")\n",
    "\n",
    "# set the axis labels\n",
    "g.set_axis_labels(\"District\", \"Count\")\n",
    "\n",
    "# rotate the x-axis labels\n",
    "for ax in g.axes.flatten():\n",
    "    ax.tick_params(axis='x', labelrotation=90)\n",
    "\n",
    "# adjust the plot layout\n",
    "g.tight_layout()\n",
    "\n",
    "# save the plot as a PNG file\n",
    "g.savefig(\"shooting_plot.png\")\n"
   ]
  },
  {
   "cell_type": "code",
   "execution_count": null,
   "id": "6b1372c4",
   "metadata": {},
   "outputs": [],
   "source": [
    "\n",
    "Shots_shootings_df = pd.merge(shootings_df, shots_fired_df, on=\"incident_num\")\n",
    "Shots_shootings_df.head(40)"
   ]
  },
  {
   "cell_type": "code",
   "execution_count": null,
   "id": "b36e7568",
   "metadata": {},
   "outputs": [],
   "source": [
    "diff_districts = (Shots_shootings_df['district_x'] != Shots_shootings_df['district_y'])\n",
    "num_diff_districts = diff_districts.sum()\n",
    "print(f\"Number of columns where district_x and district_y are different: {num_diff_districts}\")\n"
   ]
  },
  {
   "cell_type": "code",
   "execution_count": null,
   "id": "4de77ec7",
   "metadata": {},
   "outputs": [],
   "source": [
    "Shots_shootings_df = Shots_shootings_df[~diff_districts]\n"
   ]
  },
  {
   "cell_type": "code",
   "execution_count": null,
   "id": "c8d3209b",
   "metadata": {},
   "outputs": [],
   "source": [
    "Shots_shootings_df.head(30)"
   ]
  },
  {
   "cell_type": "code",
   "execution_count": null,
   "id": "25599de4",
   "metadata": {},
   "outputs": [],
   "source": []
  }
 ],
 "metadata": {
  "kernelspec": {
   "display_name": "Python 3 (ipykernel)",
   "language": "python",
   "name": "python3"
  },
  "language_info": {
   "codemirror_mode": {
    "name": "ipython",
    "version": 3
   },
   "file_extension": ".py",
   "mimetype": "text/x-python",
   "name": "python",
   "nbconvert_exporter": "python",
   "pygments_lexer": "ipython3",
   "version": "3.10.9"
  }
 },
 "nbformat": 4,
 "nbformat_minor": 5
}
